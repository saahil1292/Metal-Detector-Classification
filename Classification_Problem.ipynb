{
 "cells": [
  {
   "cell_type": "markdown",
   "metadata": {
    "collapsed": false
   },
   "source": [
    "# Metal Detection of Vehicle Prediction"
   ]
  },
  {
   "cell_type": "markdown",
   "metadata": {},
   "source": [
    "## Using 6-Sigma Approach for fewer data points"
   ]
  },
  {
   "cell_type": "code",
   "execution_count": 11,
   "metadata": {
    "collapsed": true
   },
   "outputs": [],
   "source": [
    "# Future Imports\n",
    "from __future__ import unicode_literals\n",
    "from __future__ import print_function\n",
    "from __future__ import division\n",
    "from __future__ import absolute_import\n",
    "\n",
    "# Data Cleaning\n",
    "from pandas import DataFrame, Series, read_csv, rolling_mean, concat\n",
    "from numpy import random, concatenate, tile\n",
    "from scipy import stats\n",
    "\n",
    "# Visulization\n",
    "import matplotlib.pyplot as plt\n",
    "%matplotlib inline\n",
    "\n",
    "# Time\n",
    "import time\n",
    "\n",
    "# Model Building\n",
    "from sklearn.model_selection import train_test_split\n",
    "from sklearn.ensemble import RandomForestClassifier\n",
    "from sklearn.metrics import accuracy_score"
   ]
  },
  {
   "cell_type": "code",
   "execution_count": 12,
   "metadata": {
    "collapsed": true
   },
   "outputs": [],
   "source": [
    "# For checking the execution time\n",
    "def timeit(method):\n",
    "    '''decorator which checks the execution time of a function\n",
    "       parameters\n",
    "       ----------\n",
    "       method: functions\n",
    "       Return\n",
    "       ----------\n",
    "       time\n",
    "    '''\n",
    "    def timed(*args, **kw):\n",
    "        ts = time.time()\n",
    "        result = method(*args, **kw)\n",
    "        te = time.time()\n",
    "        if 'log_time' in kw:\n",
    "            name = kw.get('log_name', method.__name__.upper())\n",
    "            kw['log_time'][name] = int((te - ts) * 1000)\n",
    "        else:\n",
    "            print('%r  %2.2f ms' % \\\n",
    "                  (method.__name__, (te - ts) * 1000))\n",
    "        return result\n",
    "    return timed"
   ]
  },
  {
   "cell_type": "code",
   "execution_count": 13,
   "metadata": {
    "collapsed": false
   },
   "outputs": [
    {
     "name": "stdout",
     "output_type": "stream",
     "text": [
      "'vehicle_dataframe'  1.96 ms\n"
     ]
    },
    {
     "data": {
      "text/html": [
       "<div>\n",
       "<style>\n",
       "    .dataframe thead tr:only-child th {\n",
       "        text-align: right;\n",
       "    }\n",
       "\n",
       "    .dataframe thead th {\n",
       "        text-align: left;\n",
       "    }\n",
       "\n",
       "    .dataframe tbody tr th {\n",
       "        vertical-align: top;\n",
       "    }\n",
       "</style>\n",
       "<table border=\"1\" class=\"dataframe\">\n",
       "  <thead>\n",
       "    <tr style=\"text-align: right;\">\n",
       "      <th></th>\n",
       "      <th>time</th>\n",
       "      <th>amp_read</th>\n",
       "      <th>vehicle</th>\n",
       "    </tr>\n",
       "  </thead>\n",
       "  <tbody>\n",
       "    <tr>\n",
       "      <th>0</th>\n",
       "      <td>1</td>\n",
       "      <td>0.00</td>\n",
       "      <td>-</td>\n",
       "    </tr>\n",
       "    <tr>\n",
       "      <th>1</th>\n",
       "      <td>2</td>\n",
       "      <td>-0.05</td>\n",
       "      <td>-</td>\n",
       "    </tr>\n",
       "    <tr>\n",
       "      <th>2</th>\n",
       "      <td>3</td>\n",
       "      <td>0.10</td>\n",
       "      <td>-</td>\n",
       "    </tr>\n",
       "    <tr>\n",
       "      <th>3</th>\n",
       "      <td>4</td>\n",
       "      <td>0.50</td>\n",
       "      <td>Motorbike</td>\n",
       "    </tr>\n",
       "    <tr>\n",
       "      <th>4</th>\n",
       "      <td>5</td>\n",
       "      <td>0.40</td>\n",
       "      <td>Motorbike</td>\n",
       "    </tr>\n",
       "    <tr>\n",
       "      <th>5</th>\n",
       "      <td>6</td>\n",
       "      <td>0.00</td>\n",
       "      <td>-</td>\n",
       "    </tr>\n",
       "    <tr>\n",
       "      <th>6</th>\n",
       "      <td>7</td>\n",
       "      <td>1.50</td>\n",
       "      <td>Bus</td>\n",
       "    </tr>\n",
       "    <tr>\n",
       "      <th>7</th>\n",
       "      <td>8</td>\n",
       "      <td>1.55</td>\n",
       "      <td>Bus</td>\n",
       "    </tr>\n",
       "    <tr>\n",
       "      <th>8</th>\n",
       "      <td>9</td>\n",
       "      <td>1.29</td>\n",
       "      <td>Bus</td>\n",
       "    </tr>\n",
       "    <tr>\n",
       "      <th>9</th>\n",
       "      <td>10</td>\n",
       "      <td>1.62</td>\n",
       "      <td>Bus</td>\n",
       "    </tr>\n",
       "    <tr>\n",
       "      <th>10</th>\n",
       "      <td>11</td>\n",
       "      <td>-0.09</td>\n",
       "      <td>-</td>\n",
       "    </tr>\n",
       "    <tr>\n",
       "      <th>11</th>\n",
       "      <td>12</td>\n",
       "      <td>-0.01</td>\n",
       "      <td>-</td>\n",
       "    </tr>\n",
       "    <tr>\n",
       "      <th>12</th>\n",
       "      <td>13</td>\n",
       "      <td>5.50</td>\n",
       "      <td>Car</td>\n",
       "    </tr>\n",
       "    <tr>\n",
       "      <th>13</th>\n",
       "      <td>14</td>\n",
       "      <td>5.66</td>\n",
       "      <td>Car</td>\n",
       "    </tr>\n",
       "    <tr>\n",
       "      <th>14</th>\n",
       "      <td>15</td>\n",
       "      <td>4.58</td>\n",
       "      <td>Car</td>\n",
       "    </tr>\n",
       "    <tr>\n",
       "      <th>15</th>\n",
       "      <td>16</td>\n",
       "      <td>0.30</td>\n",
       "      <td>-</td>\n",
       "    </tr>\n",
       "    <tr>\n",
       "      <th>16</th>\n",
       "      <td>17</td>\n",
       "      <td>0.20</td>\n",
       "      <td>-</td>\n",
       "    </tr>\n",
       "  </tbody>\n",
       "</table>\n",
       "</div>"
      ],
      "text/plain": [
       "    time  amp_read    vehicle\n",
       "0      1      0.00          -\n",
       "1      2     -0.05          -\n",
       "2      3      0.10          -\n",
       "3      4      0.50  Motorbike\n",
       "4      5      0.40  Motorbike\n",
       "5      6      0.00          -\n",
       "6      7      1.50        Bus\n",
       "7      8      1.55        Bus\n",
       "8      9      1.29        Bus\n",
       "9     10      1.62        Bus\n",
       "10    11     -0.09          -\n",
       "11    12     -0.01          -\n",
       "12    13      5.50        Car\n",
       "13    14      5.66        Car\n",
       "14    15      4.58        Car\n",
       "15    16      0.30          -\n",
       "16    17      0.20          -"
      ]
     },
     "execution_count": 13,
     "metadata": {},
     "output_type": "execute_result"
    }
   ],
   "source": [
    "@timeit\n",
    "def vehicle_dataframe(filepath):\n",
    "    '''creating dataframe from csv file\n",
    "       Parameters\n",
    "       ----------\n",
    "       method: relative filepath\n",
    "       Return\n",
    "       ----------\n",
    "       dataframe\n",
    "    '''\n",
    "    dataframe = read_csv(filepath)\n",
    "    return dataframe\n",
    "\n",
    "dataframe = vehicle_dataframe('./train.csv')\n",
    "dataframe"
   ]
  },
  {
   "cell_type": "markdown",
   "metadata": {},
   "source": [
    "## Statiscal Summary"
   ]
  },
  {
   "cell_type": "code",
   "execution_count": 14,
   "metadata": {
    "collapsed": false
   },
   "outputs": [
    {
     "name": "stdout",
     "output_type": "stream",
     "text": [
      "<class 'pandas.core.frame.DataFrame'>\n",
      "RangeIndex: 17 entries, 0 to 16\n",
      "Data columns (total 3 columns):\n",
      "time        17 non-null int64\n",
      "amp_read    17 non-null float64\n",
      "vehicle     17 non-null object\n",
      "dtypes: float64(1), int64(1), object(1)\n",
      "memory usage: 480.0+ bytes\n"
     ]
    }
   ],
   "source": [
    "dataframe.info()"
   ]
  },
  {
   "cell_type": "code",
   "execution_count": 15,
   "metadata": {
    "collapsed": false
   },
   "outputs": [
    {
     "data": {
      "text/html": [
       "<div>\n",
       "<style>\n",
       "    .dataframe thead tr:only-child th {\n",
       "        text-align: right;\n",
       "    }\n",
       "\n",
       "    .dataframe thead th {\n",
       "        text-align: left;\n",
       "    }\n",
       "\n",
       "    .dataframe tbody tr th {\n",
       "        vertical-align: top;\n",
       "    }\n",
       "</style>\n",
       "<table border=\"1\" class=\"dataframe\">\n",
       "  <thead>\n",
       "    <tr style=\"text-align: right;\">\n",
       "      <th></th>\n",
       "      <th>count</th>\n",
       "      <th>mean</th>\n",
       "      <th>std</th>\n",
       "      <th>min</th>\n",
       "      <th>25%</th>\n",
       "      <th>50%</th>\n",
       "      <th>75%</th>\n",
       "      <th>max</th>\n",
       "    </tr>\n",
       "  </thead>\n",
       "  <tbody>\n",
       "    <tr>\n",
       "      <th>time</th>\n",
       "      <td>17.0</td>\n",
       "      <td>9.000000</td>\n",
       "      <td>5.049752</td>\n",
       "      <td>1.00</td>\n",
       "      <td>5.0</td>\n",
       "      <td>9.0</td>\n",
       "      <td>13.00</td>\n",
       "      <td>17.00</td>\n",
       "    </tr>\n",
       "    <tr>\n",
       "      <th>amp_read</th>\n",
       "      <td>17.0</td>\n",
       "      <td>1.355882</td>\n",
       "      <td>1.960718</td>\n",
       "      <td>-0.09</td>\n",
       "      <td>0.0</td>\n",
       "      <td>0.4</td>\n",
       "      <td>1.55</td>\n",
       "      <td>5.66</td>\n",
       "    </tr>\n",
       "  </tbody>\n",
       "</table>\n",
       "</div>"
      ],
      "text/plain": [
       "          count      mean       std   min  25%  50%    75%    max\n",
       "time       17.0  9.000000  5.049752  1.00  5.0  9.0  13.00  17.00\n",
       "amp_read   17.0  1.355882  1.960718 -0.09  0.0  0.4   1.55   5.66"
      ]
     },
     "execution_count": 15,
     "metadata": {},
     "output_type": "execute_result"
    }
   ],
   "source": [
    "dataframe.describe().T"
   ]
  },
  {
   "cell_type": "code",
   "execution_count": 16,
   "metadata": {
    "collapsed": false
   },
   "outputs": [
    {
     "data": {
      "text/html": [
       "<div>\n",
       "<style>\n",
       "    .dataframe thead tr:only-child th {\n",
       "        text-align: right;\n",
       "    }\n",
       "\n",
       "    .dataframe thead th {\n",
       "        text-align: left;\n",
       "    }\n",
       "\n",
       "    .dataframe tbody tr th {\n",
       "        vertical-align: top;\n",
       "    }\n",
       "</style>\n",
       "<table border=\"1\" class=\"dataframe\">\n",
       "  <thead>\n",
       "    <tr style=\"text-align: right;\">\n",
       "      <th></th>\n",
       "      <th>vehicle</th>\n",
       "    </tr>\n",
       "  </thead>\n",
       "  <tbody>\n",
       "    <tr>\n",
       "      <th>count</th>\n",
       "      <td>17</td>\n",
       "    </tr>\n",
       "    <tr>\n",
       "      <th>unique</th>\n",
       "      <td>4</td>\n",
       "    </tr>\n",
       "    <tr>\n",
       "      <th>top</th>\n",
       "      <td>-</td>\n",
       "    </tr>\n",
       "    <tr>\n",
       "      <th>freq</th>\n",
       "      <td>8</td>\n",
       "    </tr>\n",
       "  </tbody>\n",
       "</table>\n",
       "</div>"
      ],
      "text/plain": [
       "       vehicle\n",
       "count       17\n",
       "unique       4\n",
       "top          -\n",
       "freq         8"
      ]
     },
     "execution_count": 16,
     "metadata": {},
     "output_type": "execute_result"
    }
   ],
   "source": [
    "# Categorical Variable\n",
    "dataframe.describe(include=['O'])"
   ]
  },
  {
   "cell_type": "markdown",
   "metadata": {},
   "source": [
    "## We will find the 6-sigma of the vehicle classes and check whether the data points lie inside this range"
   ]
  },
  {
   "cell_type": "markdown",
   "metadata": {},
   "source": [
    "#### 6-Sigma in a Normal Distribution gives the 99.997% Accuracy score. Therefore, all the points lie in this range are correctly predicted with the above accuracy. After that we will check if the points lie near to the 'mean' of these classes. If they are particularly near to one class or lie in between one class's range, they are classified as the data point of that class."
   ]
  },
  {
   "cell_type": "code",
   "execution_count": 17,
   "metadata": {
    "collapsed": false
   },
   "outputs": [
    {
     "name": "stdout",
     "output_type": "stream",
     "text": [
      "'sixsigma_for_vehicle_class'  4.10 ms\n",
      "'sixsigma_for_vehicle_class'  4.83 ms\n"
     ]
    },
    {
     "data": {
      "text/plain": [
       "vehicle\n",
       "Bus          1.063620\n",
       "Car          3.498067\n",
       "Motorbike    0.237868\n",
       "Name: amp_read, dtype: float64"
      ]
     },
     "execution_count": 17,
     "metadata": {},
     "output_type": "execute_result"
    }
   ],
   "source": [
    "@timeit\n",
    "def sixsigma_for_vehicle_class(data):\n",
    "    '''calculates sixsigma for the vehicle classes\n",
    "       Parameters\n",
    "       ----------\n",
    "       method: dataframe\n",
    "       Return\n",
    "       ----------\n",
    "       tuple of sixsigma value\n",
    "    '''\n",
    "    mean = data[data['vehicle'] != '-'].groupby('vehicle')['amp_read'].mean()\n",
    "    std = data[data['vehicle'] != '-'].groupby('vehicle')['amp_read'].std()\n",
    "    sixsigma = mean - 3 * std, mean + 3 * std\n",
    "    return sixsigma\n",
    "\n",
    "minimum_sixsigma = sixsigma_for_vehicle_class(dataframe)[0]\n",
    "maximum_sixsigma = sixsigma_for_vehicle_class(dataframe)[1]\n",
    "for i in range(len(minimum_sixsigma)):\n",
    "    Bus = (minimum_sixsigma[i], maximum_sixsigma[i])\n",
    "    Car = (minimum_sixsigma[i+1], maximum_sixsigma[i+1])\n",
    "    Motorbike = (minimum_sixsigma[i+2], maximum_sixsigma[i+2])\n",
    "    break\n",
    "    \n",
    "minimum_sixsigma"
   ]
  },
  {
   "cell_type": "code",
   "execution_count": 18,
   "metadata": {
    "collapsed": false
   },
   "outputs": [
    {
     "data": {
      "text/plain": [
       "vehicle\n",
       "Bus          1.916380\n",
       "Car          6.995266\n",
       "Motorbike    0.662132\n",
       "Name: amp_read, dtype: float64"
      ]
     },
     "execution_count": 18,
     "metadata": {},
     "output_type": "execute_result"
    }
   ],
   "source": [
    "maximum_sixsigma"
   ]
  },
  {
   "cell_type": "code",
   "execution_count": 19,
   "metadata": {
    "collapsed": false
   },
   "outputs": [
    {
     "name": "stdout",
     "output_type": "stream",
     "text": [
      "'sixsigma_for_non_vehicle_class'  4.39 ms\n"
     ]
    },
    {
     "data": {
      "text/plain": [
       "(vehicle\n",
       " -   -0.345263\n",
       " Name: amp_read, dtype: float64, vehicle\n",
       " -    0.457763\n",
       " Name: amp_read, dtype: float64)"
      ]
     },
     "execution_count": 19,
     "metadata": {},
     "output_type": "execute_result"
    }
   ],
   "source": [
    "@timeit\n",
    "def sixsigma_for_non_vehicle_class(data):\n",
    "    '''calculates sixsigma for the non classed vehicle\n",
    "       Parameters\n",
    "       ----------\n",
    "       method: dataframe\n",
    "       Return\n",
    "       ----------\n",
    "       tuple of sixsigma value\n",
    "    '''\n",
    "    mean = data[data['vehicle'] == '-'].groupby('vehicle')['amp_read'].mean()\n",
    "    std = data[data['vehicle'] == '-'].groupby('vehicle')['amp_read'].std()\n",
    "    sixsigma2 = mean - 3 * std, mean + 3 * std\n",
    "    return sixsigma2\n",
    "\n",
    "sixsigma_for_non_vehicle_class(dataframe)"
   ]
  },
  {
   "cell_type": "markdown",
   "metadata": {},
   "source": [
    "#### We will consider those points which are below 0 as noise or disturbance as a reading cannot be negative in real scenerio.\n",
    "#### Therefore, from the above approach, we can conclude that the points which are not recorded lie between Bike's sixsigma and hence classified as Bike."
   ]
  },
  {
   "cell_type": "markdown",
   "metadata": {},
   "source": [
    "## Using Machine Learning Model when 6-Sigma intervals Intersect"
   ]
  },
  {
   "cell_type": "markdown",
   "metadata": {},
   "source": [
    "#### Since the data points are less, another approach is to create your own dataset with more data points and build a Machine Learning Model on it."
   ]
  },
  {
   "cell_type": "code",
   "execution_count": 23,
   "metadata": {
    "collapsed": false
   },
   "outputs": [
    {
     "name": "stdout",
     "output_type": "stream",
     "text": [
      "'sample_dataset'  36.78 ms\n"
     ]
    }
   ],
   "source": [
    "# Creating Sample Dataset\n",
    "@timeit\n",
    "def sample_dataset():\n",
    "    ''' Creates a sample dataset\n",
    "    Parameters\n",
    "    ----------\n",
    "    method: None\n",
    "    Return\n",
    "    ----------\n",
    "    dataframe\n",
    "    '''\n",
    "    bike = random.normal(0.5, 0.2, size=100)\n",
    "    car = random.normal(5.5, 0.3, size=100)\n",
    "    bus = random.normal(3.5, 0.4, size=100)\n",
    "    amp_read = concatenate((bike, car, bus), axis=0)\n",
    "    bike = tile('bike', 100)\n",
    "    car = tile('car', 100)\n",
    "    bus = tile('bus', 100)\n",
    "    vehicle = concatenate((bike, car, bus), axis=0)\n",
    "    dictionary = {'amp_read': amp_read, 'vehicle': vehicle}\n",
    "    dataframe = DataFrame(data=dictionary)\n",
    "    data = dataframe.sample(frac=1.0, random_state=42)\n",
    "    data.reset_index(drop=True, inplace=True)\n",
    "    return data\n",
    "\n",
    "data = sample_dataset()"
   ]
  },
  {
   "cell_type": "code",
   "execution_count": 24,
   "metadata": {
    "collapsed": true
   },
   "outputs": [],
   "source": [
    "# Empty Dataframe\n",
    "dataframe_sampled_points = DataFrame({'vehicle_type': [], 'amp_reading': []})"
   ]
  },
  {
   "cell_type": "code",
   "execution_count": 33,
   "metadata": {
    "collapsed": false
   },
   "outputs": [],
   "source": [
    "# Creating a Random choice of data points\n",
    "def vehicle_column(choice):\n",
    "    ''' Randomly chooses the rows from dataframe based on the choice\n",
    "    Parameters\n",
    "    ----------\n",
    "    method: string\n",
    "    Return\n",
    "    ----------\n",
    "    integer\n",
    "    '''\n",
    "    if choice == 'bike':\n",
    "        return random.choice([1, 2], p = [0.9, 0.1])\n",
    "    elif choice == 'car':\n",
    "        return random.choice([2, 3, 4], p = [0.35, 0.6, 0.05])\n",
    "    elif choice == 'bus':\n",
    "        return random.choice([3, 4, 5], p = [0.05, 0.9, 0.05])"
   ]
  },
  {
   "cell_type": "code",
   "execution_count": 34,
   "metadata": {
    "collapsed": false
   },
   "outputs": [],
   "source": [
    "def sample_dataset(vehicle_type):\n",
    "    ''' Takes the integer value and creates a dataframe based on that\n",
    "        with a normal distribution.\n",
    "        Parameters\n",
    "        ----------\n",
    "        method: string\n",
    "        Return\n",
    "        ----------\n",
    "        dataframe\n",
    "    '''\n",
    "    reps = vehicle_column(vehicle_type)\n",
    "    vehicle_type_list = reps*[vehicle_type]\n",
    "    if vehicle_type == 'bike':\n",
    "        readings_list = list(random.normal(0.5, 0.2, reps))\n",
    "    elif vehicle_type == 'car':\n",
    "        readings_list = list(random.normal(5.5, 0.3, reps))\n",
    "    elif vehicle_type == 'bus':\n",
    "        readings_list = list(random.normal(3.5, 0.4, reps))\n",
    "    temporary_dataframe = DataFrame({'vehicle_type':vehicle_type_list,\n",
    "                         'amp_reading':readings_list})\n",
    "    return temporary_dataframe"
   ]
  },
  {
   "cell_type": "code",
   "execution_count": 35,
   "metadata": {
    "collapsed": false
   },
   "outputs": [],
   "source": [
    "# Appends in the empty dataframe we created\n",
    "for count in range(1,301):\n",
    "    choice = random.choice(data.vehicle.unique(), p=[0.333,0.333,0.334])\n",
    "    if choice == 'bike':\n",
    "        dataframe_sampled_points = dataframe_sampled_points.append(sample_dataset(choice))\n",
    "    elif choice == 'car':\n",
    "        dataframe_sampled_points = dataframe_sampled_points.append(sample_dataset(choice))\n",
    "    elif choice == 'bus':\n",
    "        dataframe_sampled_points = dataframe_sampled_points.append(sample_dataset(choice))"
   ]
  },
  {
   "cell_type": "code",
   "execution_count": 36,
   "metadata": {
    "collapsed": false
   },
   "outputs": [
    {
     "data": {
      "text/html": [
       "<div>\n",
       "<style>\n",
       "    .dataframe thead tr:only-child th {\n",
       "        text-align: right;\n",
       "    }\n",
       "\n",
       "    .dataframe thead th {\n",
       "        text-align: left;\n",
       "    }\n",
       "\n",
       "    .dataframe tbody tr th {\n",
       "        vertical-align: top;\n",
       "    }\n",
       "</style>\n",
       "<table border=\"1\" class=\"dataframe\">\n",
       "  <thead>\n",
       "    <tr style=\"text-align: right;\">\n",
       "      <th></th>\n",
       "      <th>amp_reading</th>\n",
       "      <th>vehicle_type</th>\n",
       "    </tr>\n",
       "  </thead>\n",
       "  <tbody>\n",
       "    <tr>\n",
       "      <th>0</th>\n",
       "      <td>5.265465</td>\n",
       "      <td>car</td>\n",
       "    </tr>\n",
       "    <tr>\n",
       "      <th>1</th>\n",
       "      <td>5.402927</td>\n",
       "      <td>car</td>\n",
       "    </tr>\n",
       "    <tr>\n",
       "      <th>2</th>\n",
       "      <td>5.270011</td>\n",
       "      <td>car</td>\n",
       "    </tr>\n",
       "    <tr>\n",
       "      <th>3</th>\n",
       "      <td>5.976650</td>\n",
       "      <td>car</td>\n",
       "    </tr>\n",
       "    <tr>\n",
       "      <th>4</th>\n",
       "      <td>5.494549</td>\n",
       "      <td>car</td>\n",
       "    </tr>\n",
       "    <tr>\n",
       "      <th>5</th>\n",
       "      <td>5.307034</td>\n",
       "      <td>car</td>\n",
       "    </tr>\n",
       "    <tr>\n",
       "      <th>6</th>\n",
       "      <td>5.589427</td>\n",
       "      <td>car</td>\n",
       "    </tr>\n",
       "    <tr>\n",
       "      <th>7</th>\n",
       "      <td>3.403122</td>\n",
       "      <td>bus</td>\n",
       "    </tr>\n",
       "    <tr>\n",
       "      <th>8</th>\n",
       "      <td>3.194586</td>\n",
       "      <td>bus</td>\n",
       "    </tr>\n",
       "    <tr>\n",
       "      <th>9</th>\n",
       "      <td>3.434955</td>\n",
       "      <td>bus</td>\n",
       "    </tr>\n",
       "  </tbody>\n",
       "</table>\n",
       "</div>"
      ],
      "text/plain": [
       "   amp_reading vehicle_type\n",
       "0     5.265465          car\n",
       "1     5.402927          car\n",
       "2     5.270011          car\n",
       "3     5.976650          car\n",
       "4     5.494549          car\n",
       "5     5.307034          car\n",
       "6     5.589427          car\n",
       "7     3.403122          bus\n",
       "8     3.194586          bus\n",
       "9     3.434955          bus"
      ]
     },
     "execution_count": 36,
     "metadata": {},
     "output_type": "execute_result"
    }
   ],
   "source": [
    "# Resetting index\n",
    "dataframe_sampled_points = dataframe_sampled_points.reset_index(drop=True)\n",
    "dataframe_sampled_points.head(10)"
   ]
  },
  {
   "cell_type": "markdown",
   "metadata": {},
   "source": [
    "#### To see if the intervals are not overlapping, we will create 6 new features taking averages and ratio of the ampere reading."
   ]
  },
  {
   "cell_type": "code",
   "execution_count": 37,
   "metadata": {
    "collapsed": false
   },
   "outputs": [
    {
     "data": {
      "text/html": [
       "<div>\n",
       "<style>\n",
       "    .dataframe thead tr:only-child th {\n",
       "        text-align: right;\n",
       "    }\n",
       "\n",
       "    .dataframe thead th {\n",
       "        text-align: left;\n",
       "    }\n",
       "\n",
       "    .dataframe tbody tr th {\n",
       "        vertical-align: top;\n",
       "    }\n",
       "</style>\n",
       "<table border=\"1\" class=\"dataframe\">\n",
       "  <thead>\n",
       "    <tr style=\"text-align: right;\">\n",
       "      <th></th>\n",
       "      <th>amp_reading</th>\n",
       "      <th>vehicle_type</th>\n",
       "      <th>avg_of_two_val</th>\n",
       "      <th>avg_of_three_val</th>\n",
       "      <th>avg_of_four_val</th>\n",
       "      <th>ratio_of_two_val</th>\n",
       "      <th>ratio_of_three_val</th>\n",
       "      <th>ratio_of_four_val</th>\n",
       "    </tr>\n",
       "  </thead>\n",
       "  <tbody>\n",
       "    <tr>\n",
       "      <th>0</th>\n",
       "      <td>5.265465</td>\n",
       "      <td>car</td>\n",
       "      <td>NaN</td>\n",
       "      <td>NaN</td>\n",
       "      <td>NaN</td>\n",
       "      <td>NaN</td>\n",
       "      <td>NaN</td>\n",
       "      <td>NaN</td>\n",
       "    </tr>\n",
       "    <tr>\n",
       "      <th>1</th>\n",
       "      <td>5.402927</td>\n",
       "      <td>car</td>\n",
       "      <td>5.334196</td>\n",
       "      <td>NaN</td>\n",
       "      <td>NaN</td>\n",
       "      <td>1.012885</td>\n",
       "      <td>NaN</td>\n",
       "      <td>NaN</td>\n",
       "    </tr>\n",
       "    <tr>\n",
       "      <th>2</th>\n",
       "      <td>5.270011</td>\n",
       "      <td>car</td>\n",
       "      <td>5.336469</td>\n",
       "      <td>5.312801</td>\n",
       "      <td>NaN</td>\n",
       "      <td>0.987546</td>\n",
       "      <td>0.991946</td>\n",
       "      <td>NaN</td>\n",
       "    </tr>\n",
       "    <tr>\n",
       "      <th>3</th>\n",
       "      <td>5.976650</td>\n",
       "      <td>car</td>\n",
       "      <td>5.623330</td>\n",
       "      <td>5.549863</td>\n",
       "      <td>5.478763</td>\n",
       "      <td>1.062831</td>\n",
       "      <td>1.076901</td>\n",
       "      <td>1.090876</td>\n",
       "    </tr>\n",
       "    <tr>\n",
       "      <th>4</th>\n",
       "      <td>5.494549</td>\n",
       "      <td>car</td>\n",
       "      <td>5.735600</td>\n",
       "      <td>5.580403</td>\n",
       "      <td>5.536034</td>\n",
       "      <td>0.957973</td>\n",
       "      <td>0.984615</td>\n",
       "      <td>0.992506</td>\n",
       "    </tr>\n",
       "    <tr>\n",
       "      <th>5</th>\n",
       "      <td>5.307034</td>\n",
       "      <td>car</td>\n",
       "      <td>5.400791</td>\n",
       "      <td>5.592744</td>\n",
       "      <td>5.512061</td>\n",
       "      <td>0.982640</td>\n",
       "      <td>0.948914</td>\n",
       "      <td>0.962804</td>\n",
       "    </tr>\n",
       "    <tr>\n",
       "      <th>6</th>\n",
       "      <td>5.589427</td>\n",
       "      <td>car</td>\n",
       "      <td>5.448230</td>\n",
       "      <td>5.463670</td>\n",
       "      <td>5.591915</td>\n",
       "      <td>1.025916</td>\n",
       "      <td>1.023017</td>\n",
       "      <td>0.999555</td>\n",
       "    </tr>\n",
       "    <tr>\n",
       "      <th>7</th>\n",
       "      <td>3.403122</td>\n",
       "      <td>bus</td>\n",
       "      <td>4.496274</td>\n",
       "      <td>4.766528</td>\n",
       "      <td>4.948533</td>\n",
       "      <td>0.756876</td>\n",
       "      <td>0.713962</td>\n",
       "      <td>0.687703</td>\n",
       "    </tr>\n",
       "    <tr>\n",
       "      <th>8</th>\n",
       "      <td>3.194586</td>\n",
       "      <td>bus</td>\n",
       "      <td>3.298854</td>\n",
       "      <td>4.062378</td>\n",
       "      <td>4.373542</td>\n",
       "      <td>0.968393</td>\n",
       "      <td>0.786383</td>\n",
       "      <td>0.730435</td>\n",
       "    </tr>\n",
       "    <tr>\n",
       "      <th>9</th>\n",
       "      <td>3.434955</td>\n",
       "      <td>bus</td>\n",
       "      <td>3.314771</td>\n",
       "      <td>3.344221</td>\n",
       "      <td>3.905522</td>\n",
       "      <td>1.036257</td>\n",
       "      <td>1.027132</td>\n",
       "      <td>0.879512</td>\n",
       "    </tr>\n",
       "  </tbody>\n",
       "</table>\n",
       "</div>"
      ],
      "text/plain": [
       "   amp_reading vehicle_type  avg_of_two_val  avg_of_three_val  \\\n",
       "0     5.265465          car             NaN               NaN   \n",
       "1     5.402927          car        5.334196               NaN   \n",
       "2     5.270011          car        5.336469          5.312801   \n",
       "3     5.976650          car        5.623330          5.549863   \n",
       "4     5.494549          car        5.735600          5.580403   \n",
       "5     5.307034          car        5.400791          5.592744   \n",
       "6     5.589427          car        5.448230          5.463670   \n",
       "7     3.403122          bus        4.496274          4.766528   \n",
       "8     3.194586          bus        3.298854          4.062378   \n",
       "9     3.434955          bus        3.314771          3.344221   \n",
       "\n",
       "   avg_of_four_val  ratio_of_two_val  ratio_of_three_val  ratio_of_four_val  \n",
       "0              NaN               NaN                 NaN                NaN  \n",
       "1              NaN          1.012885                 NaN                NaN  \n",
       "2              NaN          0.987546            0.991946                NaN  \n",
       "3         5.478763          1.062831            1.076901           1.090876  \n",
       "4         5.536034          0.957973            0.984615           0.992506  \n",
       "5         5.512061          0.982640            0.948914           0.962804  \n",
       "6         5.591915          1.025916            1.023017           0.999555  \n",
       "7         4.948533          0.756876            0.713962           0.687703  \n",
       "8         4.373542          0.968393            0.786383           0.730435  \n",
       "9         3.905522          1.036257            1.027132           0.879512  "
      ]
     },
     "execution_count": 37,
     "metadata": {},
     "output_type": "execute_result"
    }
   ],
   "source": [
    "def feature_engineering(dataframe):\n",
    "    ''' Creates six new features\n",
    "        Parameters\n",
    "        ----------\n",
    "        method: dataframe\n",
    "        Return\n",
    "        ----------\n",
    "        None\n",
    "    '''\n",
    "    dataframe['avg_of_two_val'] = dataframe.amp_reading.rolling(2).mean()\n",
    "    dataframe['avg_of_three_val'] = dataframe.amp_reading.rolling(3).mean()\n",
    "    dataframe['avg_of_four_val'] = dataframe.amp_reading.rolling(4).mean()\n",
    "    dataframe['ratio_of_two_val'] = dataframe.amp_reading.iloc[:] / dataframe.avg_of_two_val.iloc[:]\n",
    "    dataframe['ratio_of_three_val'] = dataframe.amp_reading.iloc[:] / dataframe.avg_of_three_val.iloc[:]\n",
    "    dataframe['ratio_of_four_val'] = dataframe.amp_reading.iloc[:] / dataframe.avg_of_four_val.iloc[:]\n",
    "\n",
    "feature_engineering(dataframe_sampled_points)\n",
    "dataframe_sampled_points.head(10)"
   ]
  },
  {
   "cell_type": "code",
   "execution_count": 51,
   "metadata": {
    "collapsed": false
   },
   "outputs": [
    {
     "data": {
      "text/plain": [
       "(761, 8)"
      ]
     },
     "execution_count": 51,
     "metadata": {},
     "output_type": "execute_result"
    }
   ],
   "source": [
    "# Missing Value Imputation\n",
    "dataframe_sampled_points.fillna(0, inplace=True)\n",
    "dataframe_sampled_points.shape"
   ]
  },
  {
   "cell_type": "markdown",
   "metadata": {},
   "source": [
    "#### We will plot graphs for all the feature we created and check how they are distinguishing each point from another."
   ]
  },
  {
   "cell_type": "code",
   "execution_count": 41,
   "metadata": {
    "collapsed": false
   },
   "outputs": [
    {
     "name": "stdout",
     "output_type": "stream",
     "text": [
      "'graphs_and_plots'  372.10 ms\n"
     ]
    },
    {
     "data": {
      "image/png": "[encoded data removed]",
      "text/plain": [
       "<matplotlib.figure.Figure at 0x7fc950a47510>"
      ]
     },
     "metadata": {},
     "output_type": "display_data"
    }
   ],
   "source": [
    "@timeit\n",
    "def graphs_and_plots(dataframe):\n",
    "    ''' Plots line graphs for feature created\n",
    "        Parameters\n",
    "        ----------\n",
    "        method: dataframe\n",
    "        Return\n",
    "        ----------\n",
    "        None\n",
    "    '''\n",
    "    fig, ax = plt.subplots(3,2, figsize=(8,6))\n",
    "    ax[0][0].plot(dataframe.avg_of_two_val)\n",
    "    ax[0][1].plot(dataframe.avg_of_three_val)\n",
    "    ax[1][0].plot(dataframe.avg_of_four_val)\n",
    "    ax[1][1].plot(dataframe.ratio_of_two_val)\n",
    "    ax[2][0].plot(dataframe.ratio_of_three_val)\n",
    "    ax[2][1].plot(dataframe.ratio_of_four_val)\n",
    "    \n",
    "graphs_and_plots(dataframe_sampled_points)"
   ]
  },
  {
   "cell_type": "markdown",
   "metadata": {},
   "source": [
    "#### The Graph clearly shows the difference between two data points in our dataset.\n",
    "#### We can now easily build our model and learn on this dataset."
   ]
  },
  {
   "cell_type": "code",
   "execution_count": 44,
   "metadata": {
    "collapsed": false
   },
   "outputs": [],
   "source": [
    "feature = dataframe_sampled_points[['amp_reading', 'avg_of_two_val', 'avg_of_three_val', \\\n",
    "                                    'avg_of_four_val', 'ratio_of_two_val', \\\n",
    "                                    'ratio_of_three_val', 'ratio_of_four_val']]\n",
    "target = dataframe_sampled_points['vehicle_type']"
   ]
  },
  {
   "cell_type": "code",
   "execution_count": 63,
   "metadata": {
    "collapsed": false
   },
   "outputs": [
    {
     "data": {
      "text/plain": [
       "(229, 7)"
      ]
     },
     "execution_count": 63,
     "metadata": {},
     "output_type": "execute_result"
    }
   ],
   "source": [
    "# Cross Validation\n",
    "X_train, X_test, y_train, y_test = train_test_split(feature, target, test_size=0.3)\n",
    "X_test.shape"
   ]
  },
  {
   "cell_type": "code",
   "execution_count": 62,
   "metadata": {
    "collapsed": false
   },
   "outputs": [
    {
     "name": "stdout",
     "output_type": "stream",
     "text": [
      "'model'  0.04 ms\n"
     ]
    }
   ],
   "source": [
    "# Creating the Model\n",
    "@timeit\n",
    "def model():\n",
    "    ''' Builds the model\n",
    "        Parameters\n",
    "        ----------\n",
    "        method: None\n",
    "        Return\n",
    "        ----------\n",
    "        RandomForestClassifier\n",
    "    '''\n",
    "    clf = RandomForestClassifier(n_estimators=100, max_depth=3)\n",
    "    return clf\n",
    "clf = model()"
   ]
  },
  {
   "cell_type": "code",
   "execution_count": 59,
   "metadata": {
    "collapsed": false
   },
   "outputs": [],
   "source": [
    "# Making Predictions\n",
    "@timeit\n",
    "def prediction(clf):\n",
    "    ''' makes the predictions on the train and test\n",
    "        Parameters\n",
    "        ----------\n",
    "        method: model\n",
    "        Return\n",
    "        ----------\n",
    "        float\n",
    "    '''\n",
    "    clf.fit(X_train, y_train)\n",
    "    prediction = clf.predict(X_test)\n",
    "    return accuracy_score(y_test, prediction)"
   ]
  },
  {
   "cell_type": "code",
   "execution_count": 60,
   "metadata": {
    "collapsed": false
   },
   "outputs": [
    {
     "name": "stdout",
     "output_type": "stream",
     "text": [
      "'prediction'  480.77 ms\n"
     ]
    },
    {
     "data": {
      "text/plain": [
       "0.98689956331877726"
      ]
     },
     "execution_count": 60,
     "metadata": {},
     "output_type": "execute_result"
    }
   ],
   "source": [
    "prediction(clf)"
   ]
  },
  {
   "cell_type": "code",
   "execution_count": null,
   "metadata": {
    "collapsed": false
   },
   "outputs": [],
   "source": []
  },
  {
   "cell_type": "markdown",
   "metadata": {
    "collapsed": true
   },
   "source": [
    "### If there are multiple plates, they will have different readings for different classes of vehicle. Since Bike is less than 1 Feet, the reading recorded will be close to each other with a marignal difference, therefore our model will easily be able to classify.  But for Cars and Bus, the readings will vary a lot. Therefore, in that case, we will first take the average value of the activated slab and then differentiate with other metal slabs."
   ]
  },
  {
   "cell_type": "markdown",
   "metadata": {},
   "source": [
    "### If a vehicle's speed is 60km/hr, our model will perform better as there will be single readings at that time and also we will have 6 values for bus-car, car-bike etc."
   ]
  }
 ],
 "metadata": {
  "kernelspec": {
   "display_name": "Python [greyatom]",
   "language": "python",
   "name": "Python [greyatom]"
  },
  "language_info": {
   "codemirror_mode": {
    "name": "ipython",
    "version": 2
   },
   "file_extension": ".py",
   "mimetype": "text/x-python",
   "name": "python",
   "nbconvert_exporter": "python",
   "pygments_lexer": "ipython2",
   "version": "2.7.13"
  }
 },
 "nbformat": 4,
 "nbformat_minor": 0
}
